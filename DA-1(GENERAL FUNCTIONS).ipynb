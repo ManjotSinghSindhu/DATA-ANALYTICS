{
 "cells": [
  {
   "cell_type": "code",
   "execution_count": 1,
   "metadata": {},
   "outputs": [],
   "source": [
    "import pandas as pd\n",
    "import numpy as np\n",
    "import matplotlib.pyplot as plt"
   ]
  },
  {
   "cell_type": "markdown",
   "metadata": {},
   "source": [
    "# Read Data from the CSV File"
   ]
  },
  {
   "cell_type": "code",
   "execution_count": 2,
   "metadata": {},
   "outputs": [],
   "source": [
    "df=pd.read_csv('F:\\DATA ANALYST\\DATA\\sales.csv')"
   ]
  },
  {
   "cell_type": "code",
   "execution_count": 3,
   "metadata": {},
   "outputs": [
    {
     "data": {
      "text/html": [
       "<div>\n",
       "<style scoped>\n",
       "    .dataframe tbody tr th:only-of-type {\n",
       "        vertical-align: middle;\n",
       "    }\n",
       "\n",
       "    .dataframe tbody tr th {\n",
       "        vertical-align: top;\n",
       "    }\n",
       "\n",
       "    .dataframe thead th {\n",
       "        text-align: right;\n",
       "    }\n",
       "</style>\n",
       "<table border=\"1\" class=\"dataframe\">\n",
       "  <thead>\n",
       "    <tr style=\"text-align: right;\">\n",
       "      <th></th>\n",
       "      <th>Date</th>\n",
       "      <th>Invoice Number</th>\n",
       "      <th>Customer ID</th>\n",
       "      <th>Product ID</th>\n",
       "      <th>Units Sold</th>\n",
       "      <th>Gross</th>\n",
       "      <th>Sales Tax</th>\n",
       "      <th>Net</th>\n",
       "      <th>Net.1</th>\n",
       "    </tr>\n",
       "  </thead>\n",
       "  <tbody>\n",
       "    <tr>\n",
       "      <th>0</th>\n",
       "      <td>1-Oct-17</td>\n",
       "      <td>Inv00234</td>\n",
       "      <td>Cus0203</td>\n",
       "      <td>Pro152</td>\n",
       "      <td>17</td>\n",
       "      <td>25.33</td>\n",
       "      <td>5.83</td>\n",
       "      <td>31.16</td>\n",
       "      <td>32.16</td>\n",
       "    </tr>\n",
       "    <tr>\n",
       "      <th>1</th>\n",
       "      <td>1-Oct-17</td>\n",
       "      <td>Inv00235</td>\n",
       "      <td>Cus0209</td>\n",
       "      <td>Pro153</td>\n",
       "      <td>17</td>\n",
       "      <td>118.83</td>\n",
       "      <td>27.33</td>\n",
       "      <td>146.16</td>\n",
       "      <td>147.16</td>\n",
       "    </tr>\n",
       "    <tr>\n",
       "      <th>2</th>\n",
       "      <td>1-Oct-17</td>\n",
       "      <td>Inv00236</td>\n",
       "      <td>Cus0209</td>\n",
       "      <td>Pro146</td>\n",
       "      <td>4</td>\n",
       "      <td>7.00</td>\n",
       "      <td>1.61</td>\n",
       "      <td>8.61</td>\n",
       "      <td>9.61</td>\n",
       "    </tr>\n",
       "    <tr>\n",
       "      <th>3</th>\n",
       "      <td>1-Oct-17</td>\n",
       "      <td>Inv00237</td>\n",
       "      <td>Cus0200</td>\n",
       "      <td>Pro151</td>\n",
       "      <td>26</td>\n",
       "      <td>71.50</td>\n",
       "      <td>16.45</td>\n",
       "      <td>87.95</td>\n",
       "      <td>88.95</td>\n",
       "    </tr>\n",
       "    <tr>\n",
       "      <th>4</th>\n",
       "      <td>1-Oct-17</td>\n",
       "      <td>Inv00238</td>\n",
       "      <td>Cus0204</td>\n",
       "      <td>Pro145</td>\n",
       "      <td>21</td>\n",
       "      <td>83.79</td>\n",
       "      <td>19.27</td>\n",
       "      <td>103.06</td>\n",
       "      <td>104.06</td>\n",
       "    </tr>\n",
       "    <tr>\n",
       "      <th>5</th>\n",
       "      <td>1-Oct-17</td>\n",
       "      <td>Inv00239</td>\n",
       "      <td>Cus0201</td>\n",
       "      <td>Pro153</td>\n",
       "      <td>19</td>\n",
       "      <td>132.81</td>\n",
       "      <td>30.55</td>\n",
       "      <td>163.36</td>\n",
       "      <td>164.36</td>\n",
       "    </tr>\n",
       "    <tr>\n",
       "      <th>6</th>\n",
       "      <td>1-Oct-17</td>\n",
       "      <td>Inv00240</td>\n",
       "      <td>Cus0203</td>\n",
       "      <td>Pro147</td>\n",
       "      <td>13</td>\n",
       "      <td>22.75</td>\n",
       "      <td>5.23</td>\n",
       "      <td>27.98</td>\n",
       "      <td>28.98</td>\n",
       "    </tr>\n",
       "    <tr>\n",
       "      <th>7</th>\n",
       "      <td>1-Oct-17</td>\n",
       "      <td>Inv00241</td>\n",
       "      <td>Cus0203</td>\n",
       "      <td>Pro154</td>\n",
       "      <td>24</td>\n",
       "      <td>119.76</td>\n",
       "      <td>27.54</td>\n",
       "      <td>147.30</td>\n",
       "      <td>148.30</td>\n",
       "    </tr>\n",
       "    <tr>\n",
       "      <th>8</th>\n",
       "      <td>1-Oct-17</td>\n",
       "      <td>Inv00242</td>\n",
       "      <td>Cus0203</td>\n",
       "      <td>Pro149</td>\n",
       "      <td>4</td>\n",
       "      <td>17.00</td>\n",
       "      <td>3.91</td>\n",
       "      <td>20.91</td>\n",
       "      <td>21.91</td>\n",
       "    </tr>\n",
       "    <tr>\n",
       "      <th>9</th>\n",
       "      <td>1-Oct-17</td>\n",
       "      <td>Inv00243</td>\n",
       "      <td>Cus0210</td>\n",
       "      <td>Pro149</td>\n",
       "      <td>5</td>\n",
       "      <td>21.25</td>\n",
       "      <td>4.89</td>\n",
       "      <td>26.14</td>\n",
       "      <td>27.14</td>\n",
       "    </tr>\n",
       "    <tr>\n",
       "      <th>10</th>\n",
       "      <td>1-Oct-17</td>\n",
       "      <td>Inv00244</td>\n",
       "      <td>Cus0206</td>\n",
       "      <td>Pro149</td>\n",
       "      <td>27</td>\n",
       "      <td>114.75</td>\n",
       "      <td>26.39</td>\n",
       "      <td>141.14</td>\n",
       "      <td>142.14</td>\n",
       "    </tr>\n",
       "    <tr>\n",
       "      <th>11</th>\n",
       "      <td>1-Oct-17</td>\n",
       "      <td>Inv00245</td>\n",
       "      <td>Cus0206</td>\n",
       "      <td>Pro146</td>\n",
       "      <td>17</td>\n",
       "      <td>29.75</td>\n",
       "      <td>6.84</td>\n",
       "      <td>36.59</td>\n",
       "      <td>37.59</td>\n",
       "    </tr>\n",
       "    <tr>\n",
       "      <th>12</th>\n",
       "      <td>1-Oct-17</td>\n",
       "      <td>Inv00246</td>\n",
       "      <td>Cus0210</td>\n",
       "      <td>Pro147</td>\n",
       "      <td>8</td>\n",
       "      <td>14.00</td>\n",
       "      <td>3.22</td>\n",
       "      <td>17.22</td>\n",
       "      <td>18.22</td>\n",
       "    </tr>\n",
       "    <tr>\n",
       "      <th>13</th>\n",
       "      <td>1-Oct-17</td>\n",
       "      <td>Inv00247</td>\n",
       "      <td>Cus0204</td>\n",
       "      <td>Pro153</td>\n",
       "      <td>18</td>\n",
       "      <td>125.82</td>\n",
       "      <td>28.94</td>\n",
       "      <td>154.76</td>\n",
       "      <td>155.76</td>\n",
       "    </tr>\n",
       "    <tr>\n",
       "      <th>14</th>\n",
       "      <td>1-Oct-17</td>\n",
       "      <td>Inv00248</td>\n",
       "      <td>Cus0208</td>\n",
       "      <td>Pro150</td>\n",
       "      <td>25</td>\n",
       "      <td>131.25</td>\n",
       "      <td>30.19</td>\n",
       "      <td>161.44</td>\n",
       "      <td>162.44</td>\n",
       "    </tr>\n",
       "    <tr>\n",
       "      <th>15</th>\n",
       "      <td>1-Oct-17</td>\n",
       "      <td>Inv00249</td>\n",
       "      <td>Cus0200</td>\n",
       "      <td>Pro152</td>\n",
       "      <td>6</td>\n",
       "      <td>8.94</td>\n",
       "      <td>2.06</td>\n",
       "      <td>11.00</td>\n",
       "      <td>12.00</td>\n",
       "    </tr>\n",
       "    <tr>\n",
       "      <th>16</th>\n",
       "      <td>1-Oct-17</td>\n",
       "      <td>Inv00250</td>\n",
       "      <td>Cus0210</td>\n",
       "      <td>Pro147</td>\n",
       "      <td>12</td>\n",
       "      <td>21.00</td>\n",
       "      <td>4.83</td>\n",
       "      <td>25.83</td>\n",
       "      <td>26.83</td>\n",
       "    </tr>\n",
       "    <tr>\n",
       "      <th>17</th>\n",
       "      <td>1-Oct-17</td>\n",
       "      <td>Inv00251</td>\n",
       "      <td>Cus0210</td>\n",
       "      <td>Pro152</td>\n",
       "      <td>18</td>\n",
       "      <td>26.82</td>\n",
       "      <td>6.17</td>\n",
       "      <td>32.99</td>\n",
       "      <td>33.99</td>\n",
       "    </tr>\n",
       "    <tr>\n",
       "      <th>18</th>\n",
       "      <td>1-Oct-17</td>\n",
       "      <td>Inv00252</td>\n",
       "      <td>Cus0210</td>\n",
       "      <td>Pro152</td>\n",
       "      <td>16</td>\n",
       "      <td>23.84</td>\n",
       "      <td>5.48</td>\n",
       "      <td>29.32</td>\n",
       "      <td>30.32</td>\n",
       "    </tr>\n",
       "    <tr>\n",
       "      <th>19</th>\n",
       "      <td>1-Oct-17</td>\n",
       "      <td>Inv00253</td>\n",
       "      <td>Cus0204</td>\n",
       "      <td>Pro149</td>\n",
       "      <td>14</td>\n",
       "      <td>59.50</td>\n",
       "      <td>13.69</td>\n",
       "      <td>73.19</td>\n",
       "      <td>74.19</td>\n",
       "    </tr>\n",
       "    <tr>\n",
       "      <th>20</th>\n",
       "      <td>1-Oct-17</td>\n",
       "      <td>Inv00254</td>\n",
       "      <td>Cus0201</td>\n",
       "      <td>Pro148</td>\n",
       "      <td>22</td>\n",
       "      <td>76.78</td>\n",
       "      <td>17.66</td>\n",
       "      <td>94.44</td>\n",
       "      <td>95.44</td>\n",
       "    </tr>\n",
       "    <tr>\n",
       "      <th>21</th>\n",
       "      <td>1-Oct-17</td>\n",
       "      <td>Inv00255</td>\n",
       "      <td>Cus0209</td>\n",
       "      <td>Pro145</td>\n",
       "      <td>7</td>\n",
       "      <td>27.93</td>\n",
       "      <td>6.42</td>\n",
       "      <td>34.35</td>\n",
       "      <td>35.35</td>\n",
       "    </tr>\n",
       "    <tr>\n",
       "      <th>22</th>\n",
       "      <td>1-Oct-17</td>\n",
       "      <td>Inv00256</td>\n",
       "      <td>Cus0205</td>\n",
       "      <td>Pro149</td>\n",
       "      <td>4</td>\n",
       "      <td>17.00</td>\n",
       "      <td>3.91</td>\n",
       "      <td>20.91</td>\n",
       "      <td>21.91</td>\n",
       "    </tr>\n",
       "    <tr>\n",
       "      <th>23</th>\n",
       "      <td>1-Oct-17</td>\n",
       "      <td>Inv00257</td>\n",
       "      <td>Cus0205</td>\n",
       "      <td>Pro153</td>\n",
       "      <td>15</td>\n",
       "      <td>104.85</td>\n",
       "      <td>24.12</td>\n",
       "      <td>128.97</td>\n",
       "      <td>129.97</td>\n",
       "    </tr>\n",
       "    <tr>\n",
       "      <th>24</th>\n",
       "      <td>1-Oct-17</td>\n",
       "      <td>Inv00258</td>\n",
       "      <td>Cus0207</td>\n",
       "      <td>Pro154</td>\n",
       "      <td>21</td>\n",
       "      <td>104.79</td>\n",
       "      <td>24.10</td>\n",
       "      <td>128.89</td>\n",
       "      <td>129.89</td>\n",
       "    </tr>\n",
       "    <tr>\n",
       "      <th>25</th>\n",
       "      <td>1-Oct-17</td>\n",
       "      <td>Inv00259</td>\n",
       "      <td>Cus0207</td>\n",
       "      <td>Pro152</td>\n",
       "      <td>4</td>\n",
       "      <td>5.96</td>\n",
       "      <td>1.37</td>\n",
       "      <td>7.33</td>\n",
       "      <td>8.33</td>\n",
       "    </tr>\n",
       "    <tr>\n",
       "      <th>26</th>\n",
       "      <td>1-Oct-17</td>\n",
       "      <td>Inv00260</td>\n",
       "      <td>Cus0207</td>\n",
       "      <td>Pro145</td>\n",
       "      <td>17</td>\n",
       "      <td>67.83</td>\n",
       "      <td>15.60</td>\n",
       "      <td>83.43</td>\n",
       "      <td>84.43</td>\n",
       "    </tr>\n",
       "    <tr>\n",
       "      <th>27</th>\n",
       "      <td>1-Oct-17</td>\n",
       "      <td>Inv00261</td>\n",
       "      <td>Cus0209</td>\n",
       "      <td>Pro150</td>\n",
       "      <td>2</td>\n",
       "      <td>10.50</td>\n",
       "      <td>2.42</td>\n",
       "      <td>12.92</td>\n",
       "      <td>13.92</td>\n",
       "    </tr>\n",
       "    <tr>\n",
       "      <th>28</th>\n",
       "      <td>1-Oct-17</td>\n",
       "      <td>Inv00262</td>\n",
       "      <td>Cus0209</td>\n",
       "      <td>Pro153</td>\n",
       "      <td>4</td>\n",
       "      <td>27.96</td>\n",
       "      <td>6.43</td>\n",
       "      <td>34.39</td>\n",
       "      <td>35.39</td>\n",
       "    </tr>\n",
       "    <tr>\n",
       "      <th>29</th>\n",
       "      <td>1-Oct-17</td>\n",
       "      <td>Inv00263</td>\n",
       "      <td>Cus0203</td>\n",
       "      <td>Pro147</td>\n",
       "      <td>25</td>\n",
       "      <td>43.75</td>\n",
       "      <td>10.06</td>\n",
       "      <td>53.81</td>\n",
       "      <td>54.81</td>\n",
       "    </tr>\n",
       "    <tr>\n",
       "      <th>...</th>\n",
       "      <td>...</td>\n",
       "      <td>...</td>\n",
       "      <td>...</td>\n",
       "      <td>...</td>\n",
       "      <td>...</td>\n",
       "      <td>...</td>\n",
       "      <td>...</td>\n",
       "      <td>...</td>\n",
       "      <td>...</td>\n",
       "    </tr>\n",
       "    <tr>\n",
       "      <th>3435</th>\n",
       "      <td>31-Dec-17</td>\n",
       "      <td>Inv03669</td>\n",
       "      <td>Cus0209</td>\n",
       "      <td>Pro147</td>\n",
       "      <td>24</td>\n",
       "      <td>63.54</td>\n",
       "      <td>11.88</td>\n",
       "      <td>51.66</td>\n",
       "      <td>52.66</td>\n",
       "    </tr>\n",
       "    <tr>\n",
       "      <th>3436</th>\n",
       "      <td>31-Dec-17</td>\n",
       "      <td>Inv03670</td>\n",
       "      <td>Cus0208</td>\n",
       "      <td>Pro148</td>\n",
       "      <td>21</td>\n",
       "      <td>110.88</td>\n",
       "      <td>20.73</td>\n",
       "      <td>90.15</td>\n",
       "      <td>91.15</td>\n",
       "    </tr>\n",
       "    <tr>\n",
       "      <th>3437</th>\n",
       "      <td>31-Dec-17</td>\n",
       "      <td>Inv03671</td>\n",
       "      <td>Cus0208</td>\n",
       "      <td>Pro154</td>\n",
       "      <td>22</td>\n",
       "      <td>166.09</td>\n",
       "      <td>31.06</td>\n",
       "      <td>135.03</td>\n",
       "      <td>136.03</td>\n",
       "    </tr>\n",
       "    <tr>\n",
       "      <th>3438</th>\n",
       "      <td>31-Dec-17</td>\n",
       "      <td>Inv03672</td>\n",
       "      <td>Cus0203</td>\n",
       "      <td>Pro152</td>\n",
       "      <td>8</td>\n",
       "      <td>18.03</td>\n",
       "      <td>3.37</td>\n",
       "      <td>14.66</td>\n",
       "      <td>15.66</td>\n",
       "    </tr>\n",
       "    <tr>\n",
       "      <th>3439</th>\n",
       "      <td>31-Dec-17</td>\n",
       "      <td>Inv03673</td>\n",
       "      <td>Cus0206</td>\n",
       "      <td>Pro154</td>\n",
       "      <td>9</td>\n",
       "      <td>67.95</td>\n",
       "      <td>12.71</td>\n",
       "      <td>55.24</td>\n",
       "      <td>56.24</td>\n",
       "    </tr>\n",
       "    <tr>\n",
       "      <th>3440</th>\n",
       "      <td>31-Dec-17</td>\n",
       "      <td>Inv03674</td>\n",
       "      <td>Cus0205</td>\n",
       "      <td>Pro154</td>\n",
       "      <td>21</td>\n",
       "      <td>158.53</td>\n",
       "      <td>29.64</td>\n",
       "      <td>128.89</td>\n",
       "      <td>129.89</td>\n",
       "    </tr>\n",
       "    <tr>\n",
       "      <th>3441</th>\n",
       "      <td>31-Dec-17</td>\n",
       "      <td>Inv03675</td>\n",
       "      <td>Cus0208</td>\n",
       "      <td>Pro151</td>\n",
       "      <td>2</td>\n",
       "      <td>8.33</td>\n",
       "      <td>1.56</td>\n",
       "      <td>6.77</td>\n",
       "      <td>7.77</td>\n",
       "    </tr>\n",
       "    <tr>\n",
       "      <th>3442</th>\n",
       "      <td>31-Dec-17</td>\n",
       "      <td>Inv03676</td>\n",
       "      <td>Cus0210</td>\n",
       "      <td>Pro151</td>\n",
       "      <td>19</td>\n",
       "      <td>79.05</td>\n",
       "      <td>14.78</td>\n",
       "      <td>64.27</td>\n",
       "      <td>65.27</td>\n",
       "    </tr>\n",
       "    <tr>\n",
       "      <th>3443</th>\n",
       "      <td>31-Dec-17</td>\n",
       "      <td>Inv03677</td>\n",
       "      <td>Cus0203</td>\n",
       "      <td>Pro147</td>\n",
       "      <td>15</td>\n",
       "      <td>39.70</td>\n",
       "      <td>7.42</td>\n",
       "      <td>32.28</td>\n",
       "      <td>33.28</td>\n",
       "    </tr>\n",
       "    <tr>\n",
       "      <th>3444</th>\n",
       "      <td>31-Dec-17</td>\n",
       "      <td>Inv03678</td>\n",
       "      <td>Cus0201</td>\n",
       "      <td>Pro147</td>\n",
       "      <td>23</td>\n",
       "      <td>60.89</td>\n",
       "      <td>11.39</td>\n",
       "      <td>49.50</td>\n",
       "      <td>50.50</td>\n",
       "    </tr>\n",
       "    <tr>\n",
       "      <th>3445</th>\n",
       "      <td>31-Dec-17</td>\n",
       "      <td>Inv03679</td>\n",
       "      <td>Cus0204</td>\n",
       "      <td>Pro152</td>\n",
       "      <td>13</td>\n",
       "      <td>29.31</td>\n",
       "      <td>5.48</td>\n",
       "      <td>23.83</td>\n",
       "      <td>24.83</td>\n",
       "    </tr>\n",
       "    <tr>\n",
       "      <th>3446</th>\n",
       "      <td>31-Dec-17</td>\n",
       "      <td>Inv03680</td>\n",
       "      <td>Cus0209</td>\n",
       "      <td>Pro154</td>\n",
       "      <td>6</td>\n",
       "      <td>45.30</td>\n",
       "      <td>8.47</td>\n",
       "      <td>36.83</td>\n",
       "      <td>37.83</td>\n",
       "    </tr>\n",
       "    <tr>\n",
       "      <th>3447</th>\n",
       "      <td>31-Dec-17</td>\n",
       "      <td>Inv03681</td>\n",
       "      <td>Cus0206</td>\n",
       "      <td>Pro146</td>\n",
       "      <td>2</td>\n",
       "      <td>5.30</td>\n",
       "      <td>0.99</td>\n",
       "      <td>4.31</td>\n",
       "      <td>5.31</td>\n",
       "    </tr>\n",
       "    <tr>\n",
       "      <th>3448</th>\n",
       "      <td>31-Dec-17</td>\n",
       "      <td>Inv03682</td>\n",
       "      <td>Cus0202</td>\n",
       "      <td>Pro152</td>\n",
       "      <td>26</td>\n",
       "      <td>58.62</td>\n",
       "      <td>10.96</td>\n",
       "      <td>47.66</td>\n",
       "      <td>48.66</td>\n",
       "    </tr>\n",
       "    <tr>\n",
       "      <th>3449</th>\n",
       "      <td>31-Dec-17</td>\n",
       "      <td>Inv03683</td>\n",
       "      <td>Cus0207</td>\n",
       "      <td>Pro145</td>\n",
       "      <td>20</td>\n",
       "      <td>120.72</td>\n",
       "      <td>22.57</td>\n",
       "      <td>98.15</td>\n",
       "      <td>99.15</td>\n",
       "    </tr>\n",
       "    <tr>\n",
       "      <th>3450</th>\n",
       "      <td>31-Dec-17</td>\n",
       "      <td>Inv03684</td>\n",
       "      <td>Cus0206</td>\n",
       "      <td>Pro147</td>\n",
       "      <td>19</td>\n",
       "      <td>50.29</td>\n",
       "      <td>9.40</td>\n",
       "      <td>40.89</td>\n",
       "      <td>41.89</td>\n",
       "    </tr>\n",
       "    <tr>\n",
       "      <th>3451</th>\n",
       "      <td>31-Dec-17</td>\n",
       "      <td>Inv03685</td>\n",
       "      <td>Cus0205</td>\n",
       "      <td>Pro154</td>\n",
       "      <td>20</td>\n",
       "      <td>150.98</td>\n",
       "      <td>28.23</td>\n",
       "      <td>122.75</td>\n",
       "      <td>123.75</td>\n",
       "    </tr>\n",
       "    <tr>\n",
       "      <th>3452</th>\n",
       "      <td>31-Dec-17</td>\n",
       "      <td>Inv03686</td>\n",
       "      <td>Cus0206</td>\n",
       "      <td>Pro150</td>\n",
       "      <td>8</td>\n",
       "      <td>63.54</td>\n",
       "      <td>11.88</td>\n",
       "      <td>51.66</td>\n",
       "      <td>52.66</td>\n",
       "    </tr>\n",
       "    <tr>\n",
       "      <th>3453</th>\n",
       "      <td>31-Dec-17</td>\n",
       "      <td>Inv03687</td>\n",
       "      <td>Cus0209</td>\n",
       "      <td>Pro148</td>\n",
       "      <td>25</td>\n",
       "      <td>132.00</td>\n",
       "      <td>24.68</td>\n",
       "      <td>107.32</td>\n",
       "      <td>108.32</td>\n",
       "    </tr>\n",
       "    <tr>\n",
       "      <th>3454</th>\n",
       "      <td>31-Dec-17</td>\n",
       "      <td>Inv03688</td>\n",
       "      <td>Cus0207</td>\n",
       "      <td>Pro150</td>\n",
       "      <td>7</td>\n",
       "      <td>55.60</td>\n",
       "      <td>10.40</td>\n",
       "      <td>45.20</td>\n",
       "      <td>46.20</td>\n",
       "    </tr>\n",
       "    <tr>\n",
       "      <th>3455</th>\n",
       "      <td>31-Dec-17</td>\n",
       "      <td>Inv03689</td>\n",
       "      <td>Cus0208</td>\n",
       "      <td>Pro145</td>\n",
       "      <td>26</td>\n",
       "      <td>156.95</td>\n",
       "      <td>29.35</td>\n",
       "      <td>127.60</td>\n",
       "      <td>128.60</td>\n",
       "    </tr>\n",
       "    <tr>\n",
       "      <th>3456</th>\n",
       "      <td>31-Dec-17</td>\n",
       "      <td>Inv03690</td>\n",
       "      <td>Cus0201</td>\n",
       "      <td>Pro152</td>\n",
       "      <td>8</td>\n",
       "      <td>18.03</td>\n",
       "      <td>3.37</td>\n",
       "      <td>14.66</td>\n",
       "      <td>15.66</td>\n",
       "    </tr>\n",
       "    <tr>\n",
       "      <th>3457</th>\n",
       "      <td>31-Dec-17</td>\n",
       "      <td>Inv03691</td>\n",
       "      <td>Cus0201</td>\n",
       "      <td>Pro148</td>\n",
       "      <td>15</td>\n",
       "      <td>79.20</td>\n",
       "      <td>14.81</td>\n",
       "      <td>64.39</td>\n",
       "      <td>65.39</td>\n",
       "    </tr>\n",
       "    <tr>\n",
       "      <th>3458</th>\n",
       "      <td>31-Dec-17</td>\n",
       "      <td>Inv03692</td>\n",
       "      <td>Cus0201</td>\n",
       "      <td>Pro149</td>\n",
       "      <td>19</td>\n",
       "      <td>122.16</td>\n",
       "      <td>22.84</td>\n",
       "      <td>99.32</td>\n",
       "      <td>100.32</td>\n",
       "    </tr>\n",
       "    <tr>\n",
       "      <th>3459</th>\n",
       "      <td>31-Dec-17</td>\n",
       "      <td>Inv03693</td>\n",
       "      <td>Cus0202</td>\n",
       "      <td>Pro148</td>\n",
       "      <td>25</td>\n",
       "      <td>132.00</td>\n",
       "      <td>24.68</td>\n",
       "      <td>107.32</td>\n",
       "      <td>108.32</td>\n",
       "    </tr>\n",
       "    <tr>\n",
       "      <th>3460</th>\n",
       "      <td>31-Dec-17</td>\n",
       "      <td>Inv03694</td>\n",
       "      <td>Cus0206</td>\n",
       "      <td>Pro152</td>\n",
       "      <td>10</td>\n",
       "      <td>22.55</td>\n",
       "      <td>4.22</td>\n",
       "      <td>18.33</td>\n",
       "      <td>19.33</td>\n",
       "    </tr>\n",
       "    <tr>\n",
       "      <th>3461</th>\n",
       "      <td>31-Dec-17</td>\n",
       "      <td>Inv03695</td>\n",
       "      <td>Cus0208</td>\n",
       "      <td>Pro152</td>\n",
       "      <td>14</td>\n",
       "      <td>31.56</td>\n",
       "      <td>5.90</td>\n",
       "      <td>25.66</td>\n",
       "      <td>26.66</td>\n",
       "    </tr>\n",
       "    <tr>\n",
       "      <th>3462</th>\n",
       "      <td>31-Dec-17</td>\n",
       "      <td>Inv03696</td>\n",
       "      <td>Cus0204</td>\n",
       "      <td>Pro152</td>\n",
       "      <td>23</td>\n",
       "      <td>51.86</td>\n",
       "      <td>9.70</td>\n",
       "      <td>42.16</td>\n",
       "      <td>43.16</td>\n",
       "    </tr>\n",
       "    <tr>\n",
       "      <th>3463</th>\n",
       "      <td>31-Dec-17</td>\n",
       "      <td>Inv03697</td>\n",
       "      <td>Cus0202</td>\n",
       "      <td>Pro146</td>\n",
       "      <td>9</td>\n",
       "      <td>23.83</td>\n",
       "      <td>4.46</td>\n",
       "      <td>19.37</td>\n",
       "      <td>20.37</td>\n",
       "    </tr>\n",
       "    <tr>\n",
       "      <th>3464</th>\n",
       "      <td>31-Dec-17</td>\n",
       "      <td>Inv03698</td>\n",
       "      <td>Cus0202</td>\n",
       "      <td>Pro149</td>\n",
       "      <td>24</td>\n",
       "      <td>154.32</td>\n",
       "      <td>28.86</td>\n",
       "      <td>125.46</td>\n",
       "      <td>126.46</td>\n",
       "    </tr>\n",
       "  </tbody>\n",
       "</table>\n",
       "<p>3465 rows × 9 columns</p>\n",
       "</div>"
      ],
      "text/plain": [
       "           Date Invoice Number Customer ID Product ID  Units Sold   Gross  \\\n",
       "0      1-Oct-17       Inv00234     Cus0203     Pro152          17   25.33   \n",
       "1      1-Oct-17       Inv00235     Cus0209     Pro153          17  118.83   \n",
       "2      1-Oct-17       Inv00236     Cus0209     Pro146           4    7.00   \n",
       "3      1-Oct-17       Inv00237     Cus0200     Pro151          26   71.50   \n",
       "4      1-Oct-17       Inv00238     Cus0204     Pro145          21   83.79   \n",
       "5      1-Oct-17       Inv00239     Cus0201     Pro153          19  132.81   \n",
       "6      1-Oct-17       Inv00240     Cus0203     Pro147          13   22.75   \n",
       "7      1-Oct-17       Inv00241     Cus0203     Pro154          24  119.76   \n",
       "8      1-Oct-17       Inv00242     Cus0203     Pro149           4   17.00   \n",
       "9      1-Oct-17       Inv00243     Cus0210     Pro149           5   21.25   \n",
       "10     1-Oct-17       Inv00244     Cus0206     Pro149          27  114.75   \n",
       "11     1-Oct-17       Inv00245     Cus0206     Pro146          17   29.75   \n",
       "12     1-Oct-17       Inv00246     Cus0210     Pro147           8   14.00   \n",
       "13     1-Oct-17       Inv00247     Cus0204     Pro153          18  125.82   \n",
       "14     1-Oct-17       Inv00248     Cus0208     Pro150          25  131.25   \n",
       "15     1-Oct-17       Inv00249     Cus0200     Pro152           6    8.94   \n",
       "16     1-Oct-17       Inv00250     Cus0210     Pro147          12   21.00   \n",
       "17     1-Oct-17       Inv00251     Cus0210     Pro152          18   26.82   \n",
       "18     1-Oct-17       Inv00252     Cus0210     Pro152          16   23.84   \n",
       "19     1-Oct-17       Inv00253     Cus0204     Pro149          14   59.50   \n",
       "20     1-Oct-17       Inv00254     Cus0201     Pro148          22   76.78   \n",
       "21     1-Oct-17       Inv00255     Cus0209     Pro145           7   27.93   \n",
       "22     1-Oct-17       Inv00256     Cus0205     Pro149           4   17.00   \n",
       "23     1-Oct-17       Inv00257     Cus0205     Pro153          15  104.85   \n",
       "24     1-Oct-17       Inv00258     Cus0207     Pro154          21  104.79   \n",
       "25     1-Oct-17       Inv00259     Cus0207     Pro152           4    5.96   \n",
       "26     1-Oct-17       Inv00260     Cus0207     Pro145          17   67.83   \n",
       "27     1-Oct-17       Inv00261     Cus0209     Pro150           2   10.50   \n",
       "28     1-Oct-17       Inv00262     Cus0209     Pro153           4   27.96   \n",
       "29     1-Oct-17       Inv00263     Cus0203     Pro147          25   43.75   \n",
       "...         ...            ...         ...        ...         ...     ...   \n",
       "3435  31-Dec-17       Inv03669     Cus0209     Pro147          24   63.54   \n",
       "3436  31-Dec-17       Inv03670     Cus0208     Pro148          21  110.88   \n",
       "3437  31-Dec-17       Inv03671     Cus0208     Pro154          22  166.09   \n",
       "3438  31-Dec-17       Inv03672     Cus0203     Pro152           8   18.03   \n",
       "3439  31-Dec-17       Inv03673     Cus0206     Pro154           9   67.95   \n",
       "3440  31-Dec-17       Inv03674     Cus0205     Pro154          21  158.53   \n",
       "3441  31-Dec-17       Inv03675     Cus0208     Pro151           2    8.33   \n",
       "3442  31-Dec-17       Inv03676     Cus0210     Pro151          19   79.05   \n",
       "3443  31-Dec-17       Inv03677     Cus0203     Pro147          15   39.70   \n",
       "3444  31-Dec-17       Inv03678     Cus0201     Pro147          23   60.89   \n",
       "3445  31-Dec-17       Inv03679     Cus0204     Pro152          13   29.31   \n",
       "3446  31-Dec-17       Inv03680     Cus0209     Pro154           6   45.30   \n",
       "3447  31-Dec-17       Inv03681     Cus0206     Pro146           2    5.30   \n",
       "3448  31-Dec-17       Inv03682     Cus0202     Pro152          26   58.62   \n",
       "3449  31-Dec-17       Inv03683     Cus0207     Pro145          20  120.72   \n",
       "3450  31-Dec-17       Inv03684     Cus0206     Pro147          19   50.29   \n",
       "3451  31-Dec-17       Inv03685     Cus0205     Pro154          20  150.98   \n",
       "3452  31-Dec-17       Inv03686     Cus0206     Pro150           8   63.54   \n",
       "3453  31-Dec-17       Inv03687     Cus0209     Pro148          25  132.00   \n",
       "3454  31-Dec-17       Inv03688     Cus0207     Pro150           7   55.60   \n",
       "3455  31-Dec-17       Inv03689     Cus0208     Pro145          26  156.95   \n",
       "3456  31-Dec-17       Inv03690     Cus0201     Pro152           8   18.03   \n",
       "3457  31-Dec-17       Inv03691     Cus0201     Pro148          15   79.20   \n",
       "3458  31-Dec-17       Inv03692     Cus0201     Pro149          19  122.16   \n",
       "3459  31-Dec-17       Inv03693     Cus0202     Pro148          25  132.00   \n",
       "3460  31-Dec-17       Inv03694     Cus0206     Pro152          10   22.55   \n",
       "3461  31-Dec-17       Inv03695     Cus0208     Pro152          14   31.56   \n",
       "3462  31-Dec-17       Inv03696     Cus0204     Pro152          23   51.86   \n",
       "3463  31-Dec-17       Inv03697     Cus0202     Pro146           9   23.83   \n",
       "3464  31-Dec-17       Inv03698     Cus0202     Pro149          24  154.32   \n",
       "\n",
       "      Sales Tax     Net   Net.1  \n",
       "0          5.83   31.16   32.16  \n",
       "1         27.33  146.16  147.16  \n",
       "2          1.61    8.61    9.61  \n",
       "3         16.45   87.95   88.95  \n",
       "4         19.27  103.06  104.06  \n",
       "5         30.55  163.36  164.36  \n",
       "6          5.23   27.98   28.98  \n",
       "7         27.54  147.30  148.30  \n",
       "8          3.91   20.91   21.91  \n",
       "9          4.89   26.14   27.14  \n",
       "10        26.39  141.14  142.14  \n",
       "11         6.84   36.59   37.59  \n",
       "12         3.22   17.22   18.22  \n",
       "13        28.94  154.76  155.76  \n",
       "14        30.19  161.44  162.44  \n",
       "15         2.06   11.00   12.00  \n",
       "16         4.83   25.83   26.83  \n",
       "17         6.17   32.99   33.99  \n",
       "18         5.48   29.32   30.32  \n",
       "19        13.69   73.19   74.19  \n",
       "20        17.66   94.44   95.44  \n",
       "21         6.42   34.35   35.35  \n",
       "22         3.91   20.91   21.91  \n",
       "23        24.12  128.97  129.97  \n",
       "24        24.10  128.89  129.89  \n",
       "25         1.37    7.33    8.33  \n",
       "26        15.60   83.43   84.43  \n",
       "27         2.42   12.92   13.92  \n",
       "28         6.43   34.39   35.39  \n",
       "29        10.06   53.81   54.81  \n",
       "...         ...     ...     ...  \n",
       "3435      11.88   51.66   52.66  \n",
       "3436      20.73   90.15   91.15  \n",
       "3437      31.06  135.03  136.03  \n",
       "3438       3.37   14.66   15.66  \n",
       "3439      12.71   55.24   56.24  \n",
       "3440      29.64  128.89  129.89  \n",
       "3441       1.56    6.77    7.77  \n",
       "3442      14.78   64.27   65.27  \n",
       "3443       7.42   32.28   33.28  \n",
       "3444      11.39   49.50   50.50  \n",
       "3445       5.48   23.83   24.83  \n",
       "3446       8.47   36.83   37.83  \n",
       "3447       0.99    4.31    5.31  \n",
       "3448      10.96   47.66   48.66  \n",
       "3449      22.57   98.15   99.15  \n",
       "3450       9.40   40.89   41.89  \n",
       "3451      28.23  122.75  123.75  \n",
       "3452      11.88   51.66   52.66  \n",
       "3453      24.68  107.32  108.32  \n",
       "3454      10.40   45.20   46.20  \n",
       "3455      29.35  127.60  128.60  \n",
       "3456       3.37   14.66   15.66  \n",
       "3457      14.81   64.39   65.39  \n",
       "3458      22.84   99.32  100.32  \n",
       "3459      24.68  107.32  108.32  \n",
       "3460       4.22   18.33   19.33  \n",
       "3461       5.90   25.66   26.66  \n",
       "3462       9.70   42.16   43.16  \n",
       "3463       4.46   19.37   20.37  \n",
       "3464      28.86  125.46  126.46  \n",
       "\n",
       "[3465 rows x 9 columns]"
      ]
     },
     "execution_count": 3,
     "metadata": {},
     "output_type": "execute_result"
    }
   ],
   "source": [
    "df"
   ]
  },
  {
   "cell_type": "markdown",
   "metadata": {},
   "source": [
    "# The head () method in python contains only one parameter, which is n. It is an optional parameter. By setting it, we fix the number of rows we want from the DataFrame. The head () function returns n rows from the DataFrame. "
   ]
  },
  {
   "cell_type": "code",
   "execution_count": 4,
   "metadata": {},
   "outputs": [
    {
     "name": "stdout",
     "output_type": "stream",
     "text": [
      "       Date Invoice Number Customer ID Product ID  Units Sold   Gross  \\\n",
      "0  1-Oct-17       Inv00234     Cus0203     Pro152          17   25.33   \n",
      "1  1-Oct-17       Inv00235     Cus0209     Pro153          17  118.83   \n",
      "2  1-Oct-17       Inv00236     Cus0209     Pro146           4    7.00   \n",
      "3  1-Oct-17       Inv00237     Cus0200     Pro151          26   71.50   \n",
      "4  1-Oct-17       Inv00238     Cus0204     Pro145          21   83.79   \n",
      "\n",
      "   Sales Tax     Net   Net.1  \n",
      "0       5.83   31.16   32.16  \n",
      "1      27.33  146.16  147.16  \n",
      "2       1.61    8.61    9.61  \n",
      "3      16.45   87.95   88.95  \n",
      "4      19.27  103.06  104.06  \n"
     ]
    }
   ],
   "source": [
    "print(df.head())"
   ]
  },
  {
   "cell_type": "markdown",
   "metadata": {},
   "source": [
    "# shape() is use in pandas to give number of row/column"
   ]
  },
  {
   "cell_type": "code",
   "execution_count": 5,
   "metadata": {},
   "outputs": [
    {
     "name": "stdout",
     "output_type": "stream",
     "text": [
      "(3465, 9)\n"
     ]
    }
   ],
   "source": [
    "print(df.shape)"
   ]
  },
  {
   "cell_type": "markdown",
   "metadata": {},
   "source": [
    "# columns is used to display the Columns in the data"
   ]
  },
  {
   "cell_type": "code",
   "execution_count": 6,
   "metadata": {},
   "outputs": [
    {
     "name": "stdout",
     "output_type": "stream",
     "text": [
      "Index(['Date', 'Invoice Number', 'Customer ID', 'Product ID', 'Units Sold',\n",
      "       'Gross', 'Sales Tax', 'Net', 'Net.1'],\n",
      "      dtype='object')\n"
     ]
    }
   ],
   "source": [
    "print(df.columns)"
   ]
  },
  {
   "cell_type": "markdown",
   "metadata": {},
   "source": [
    "# dtypes is used to Print Data Type of the Columns in the Data"
   ]
  },
  {
   "cell_type": "code",
   "execution_count": 7,
   "metadata": {},
   "outputs": [
    {
     "name": "stdout",
     "output_type": "stream",
     "text": [
      "Date               object\n",
      "Invoice Number     object\n",
      "Customer ID        object\n",
      "Product ID         object\n",
      "Units Sold          int64\n",
      "Gross             float64\n",
      "Sales Tax         float64\n",
      "Net               float64\n",
      "Net.1             float64\n",
      "dtype: object\n"
     ]
    }
   ],
   "source": [
    "print(df.dtypes)"
   ]
  },
  {
   "cell_type": "markdown",
   "metadata": {},
   "source": [
    "# info() function is used to get a concise summary of the dataframe. It comes really handy when doing exploratory analysis of the data."
   ]
  },
  {
   "cell_type": "code",
   "execution_count": 8,
   "metadata": {},
   "outputs": [
    {
     "name": "stdout",
     "output_type": "stream",
     "text": [
      "<class 'pandas.core.frame.DataFrame'>\n",
      "RangeIndex: 3465 entries, 0 to 3464\n",
      "Data columns (total 9 columns):\n",
      "Date              3465 non-null object\n",
      "Invoice Number    3465 non-null object\n",
      "Customer ID       3465 non-null object\n",
      "Product ID        3465 non-null object\n",
      "Units Sold        3465 non-null int64\n",
      "Gross             3465 non-null float64\n",
      "Sales Tax         3465 non-null float64\n",
      "Net               3465 non-null float64\n",
      "Net.1             3465 non-null float64\n",
      "dtypes: float64(4), int64(1), object(4)\n",
      "memory usage: 243.7+ KB\n",
      "None\n"
     ]
    }
   ],
   "source": [
    "print(df.info())"
   ]
  },
  {
   "cell_type": "markdown",
   "metadata": {},
   "source": [
    "# Creating Subset of the Complete Data"
   ]
  },
  {
   "cell_type": "code",
   "execution_count": 9,
   "metadata": {},
   "outputs": [],
   "source": [
    "subset=df[['Gross','Net','Sales Tax']]"
   ]
  },
  {
   "cell_type": "code",
   "execution_count": 10,
   "metadata": {},
   "outputs": [
    {
     "name": "stdout",
     "output_type": "stream",
     "text": [
      "    Gross     Net  Sales Tax\n",
      "0   25.33   31.16       5.83\n",
      "1  118.83  146.16      27.33\n",
      "2    7.00    8.61       1.61\n",
      "3   71.50   87.95      16.45\n",
      "4   83.79  103.06      19.27\n"
     ]
    }
   ],
   "source": [
    "print(subset.head())"
   ]
  },
  {
   "cell_type": "code",
   "execution_count": 11,
   "metadata": {},
   "outputs": [
    {
     "name": "stdout",
     "output_type": "stream",
     "text": [
      "       Gross     Net  Sales Tax\n",
      "3460   22.55   18.33       4.22\n",
      "3461   31.56   25.66       5.90\n",
      "3462   51.86   42.16       9.70\n",
      "3463   23.83   19.37       4.46\n",
      "3464  154.32  125.46      28.86\n"
     ]
    }
   ],
   "source": [
    "print(subset.tail())"
   ]
  },
  {
   "cell_type": "code",
   "execution_count": 12,
   "metadata": {},
   "outputs": [
    {
     "name": "stdout",
     "output_type": "stream",
     "text": [
      "Date              1-Oct-17\n",
      "Invoice Number    Inv00234\n",
      "Customer ID        Cus0203\n",
      "Product ID          Pro152\n",
      "Units Sold              17\n",
      "Gross                25.33\n",
      "Sales Tax             5.83\n",
      "Net                  31.16\n",
      "Net.1                32.16\n",
      "Name: 0, dtype: object\n"
     ]
    }
   ],
   "source": [
    "print(df.loc[0])"
   ]
  },
  {
   "cell_type": "code",
   "execution_count": 13,
   "metadata": {},
   "outputs": [
    {
     "name": "stdout",
     "output_type": "stream",
     "text": [
      "Date              3-Oct-17\n",
      "Invoice Number    Inv00333\n",
      "Customer ID        Cus0207\n",
      "Product ID          Pro149\n",
      "Units Sold               5\n",
      "Gross                21.25\n",
      "Sales Tax             4.89\n",
      "Net                  26.14\n",
      "Net.1                27.14\n",
      "Name: 99, dtype: object\n"
     ]
    }
   ],
   "source": [
    "print(df.loc[99])"
   ]
  },
  {
   "cell_type": "code",
   "execution_count": 14,
   "metadata": {},
   "outputs": [
    {
     "name": "stdout",
     "output_type": "stream",
     "text": [
      "           Date Invoice Number Customer ID Product ID  Units Sold   Gross  \\\n",
      "3464  31-Dec-17       Inv03698     Cus0202     Pro149          24  154.32   \n",
      "\n",
      "      Sales Tax     Net   Net.1  \n",
      "3464      28.86  125.46  126.46  \n"
     ]
    }
   ],
   "source": [
    "print(df.tail(n=1))"
   ]
  },
  {
   "cell_type": "code",
   "execution_count": 15,
   "metadata": {},
   "outputs": [
    {
     "name": "stdout",
     "output_type": "stream",
     "text": [
      "          Date Invoice Number Customer ID Product ID  Units Sold  Gross  \\\n",
      "0     1-Oct-17       Inv00234     Cus0203     Pro152          17  25.33   \n",
      "99    3-Oct-17       Inv00333     Cus0207     Pro149           5  21.25   \n",
      "999  26-Oct-17       Inv01233     Cus0201     Pro149          16  68.00   \n",
      "\n",
      "     Sales Tax    Net  Net.1  \n",
      "0         5.83  31.16  32.16  \n",
      "99        4.89  26.14  27.14  \n",
      "999      15.64  83.64  84.64  \n"
     ]
    }
   ],
   "source": [
    "print(df.loc[[0,99,999]])"
   ]
  },
  {
   "cell_type": "code",
   "execution_count": 16,
   "metadata": {},
   "outputs": [
    {
     "name": "stdout",
     "output_type": "stream",
     "text": [
      "Date              1-Oct-17\n",
      "Invoice Number    Inv00235\n",
      "Customer ID        Cus0209\n",
      "Product ID          Pro153\n",
      "Units Sold              17\n",
      "Gross               118.83\n",
      "Sales Tax            27.33\n",
      "Net                 146.16\n",
      "Net.1               147.16\n",
      "Name: 1, dtype: object\n"
     ]
    }
   ],
   "source": [
    "print(df.iloc[1])"
   ]
  },
  {
   "cell_type": "code",
   "execution_count": 17,
   "metadata": {},
   "outputs": [
    {
     "name": "stdout",
     "output_type": "stream",
     "text": [
      "Date              3-Oct-17\n",
      "Invoice Number    Inv00333\n",
      "Customer ID        Cus0207\n",
      "Product ID          Pro149\n",
      "Units Sold               5\n",
      "Gross                21.25\n",
      "Sales Tax             4.89\n",
      "Net                  26.14\n",
      "Net.1                27.14\n",
      "Name: 99, dtype: object\n"
     ]
    }
   ],
   "source": [
    "print(df.iloc[99])"
   ]
  },
  {
   "cell_type": "code",
   "execution_count": 18,
   "metadata": {},
   "outputs": [
    {
     "name": "stdout",
     "output_type": "stream",
     "text": [
      "Date              31-Dec-17\n",
      "Invoice Number     Inv03698\n",
      "Customer ID         Cus0202\n",
      "Product ID           Pro149\n",
      "Units Sold               24\n",
      "Gross                154.32\n",
      "Sales Tax             28.86\n",
      "Net                  125.46\n",
      "Net.1                126.46\n",
      "Name: 3464, dtype: object\n"
     ]
    }
   ],
   "source": [
    "print(df.iloc[-1])"
   ]
  },
  {
   "cell_type": "code",
   "execution_count": 19,
   "metadata": {},
   "outputs": [
    {
     "name": "stdout",
     "output_type": "stream",
     "text": [
      "        Date Invoice Number Customer ID Product ID  Units Sold  Gross  \\\n",
      "0   1-Oct-17       Inv00234     Cus0203     Pro152          17  25.33   \n",
      "9   1-Oct-17       Inv00243     Cus0210     Pro149           5  21.25   \n",
      "99  3-Oct-17       Inv00333     Cus0207     Pro149           5  21.25   \n",
      "\n",
      "    Sales Tax    Net  Net.1  \n",
      "0        5.83  31.16  32.16  \n",
      "9        4.89  26.14  27.14  \n",
      "99       4.89  26.14  27.14  \n"
     ]
    }
   ],
   "source": [
    "print(df.iloc[[0,9,99]])"
   ]
  },
  {
   "cell_type": "code",
   "execution_count": 20,
   "metadata": {},
   "outputs": [],
   "source": [
    "subset=df.loc[:,['Gross','Net']]"
   ]
  },
  {
   "cell_type": "code",
   "execution_count": 21,
   "metadata": {},
   "outputs": [
    {
     "name": "stdout",
     "output_type": "stream",
     "text": [
      "    Gross     Net\n",
      "0   25.33   31.16\n",
      "1  118.83  146.16\n",
      "2    7.00    8.61\n",
      "3   71.50   87.95\n",
      "4   83.79  103.06\n"
     ]
    }
   ],
   "source": [
    "print(subset.head())"
   ]
  },
  {
   "cell_type": "code",
   "execution_count": 22,
   "metadata": {},
   "outputs": [],
   "source": [
    "subset=df.iloc[:,[2,4,-1]]"
   ]
  },
  {
   "cell_type": "code",
   "execution_count": 23,
   "metadata": {},
   "outputs": [
    {
     "name": "stdout",
     "output_type": "stream",
     "text": [
      "  Customer ID  Units Sold   Net.1\n",
      "0     Cus0203          17   32.16\n",
      "1     Cus0209          17  147.16\n",
      "2     Cus0209           4    9.61\n",
      "3     Cus0200          26   88.95\n",
      "4     Cus0204          21  104.06\n"
     ]
    }
   ],
   "source": [
    "print(subset.head())"
   ]
  },
  {
   "cell_type": "code",
   "execution_count": 24,
   "metadata": {},
   "outputs": [
    {
     "data": {
      "text/plain": [
       "[0, 1, 2, 3, 4]"
      ]
     },
     "execution_count": 24,
     "metadata": {},
     "output_type": "execute_result"
    }
   ],
   "source": [
    "small_range=list(range(5))\n",
    "small_range"
   ]
  },
  {
   "cell_type": "code",
   "execution_count": 25,
   "metadata": {},
   "outputs": [
    {
     "name": "stdout",
     "output_type": "stream",
     "text": [
      "       Date Invoice Number Customer ID Product ID  Units Sold\n",
      "0  1-Oct-17       Inv00234     Cus0203     Pro152          17\n",
      "1  1-Oct-17       Inv00235     Cus0209     Pro153          17\n",
      "2  1-Oct-17       Inv00236     Cus0209     Pro146           4\n",
      "3  1-Oct-17       Inv00237     Cus0200     Pro151          26\n",
      "4  1-Oct-17       Inv00238     Cus0204     Pro145          21\n"
     ]
    }
   ],
   "source": [
    "subset=df.iloc[:,small_range]\n",
    "print(subset.head())"
   ]
  },
  {
   "cell_type": "code",
   "execution_count": 26,
   "metadata": {},
   "outputs": [
    {
     "name": "stdout",
     "output_type": "stream",
     "text": [
      "19.37\n"
     ]
    }
   ],
   "source": [
    "print(df.loc[42,'Net'])"
   ]
  },
  {
   "cell_type": "code",
   "execution_count": 27,
   "metadata": {},
   "outputs": [
    {
     "name": "stdout",
     "output_type": "stream",
     "text": [
      "2-Oct-17\n"
     ]
    }
   ],
   "source": [
    "print(df.iloc[42,0])"
   ]
  },
  {
   "cell_type": "code",
   "execution_count": 28,
   "metadata": {},
   "outputs": [
    {
     "name": "stdout",
     "output_type": "stream",
     "text": [
      "          Date Product ID  Gross\n",
      "0     1-Oct-17     Pro152  25.33\n",
      "99    3-Oct-17     Pro149  21.25\n",
      "999  26-Oct-17     Pro149  68.00\n"
     ]
    }
   ],
   "source": [
    "print(df.iloc[[0,99,999],[0,3,5]])"
   ]
  },
  {
   "cell_type": "code",
   "execution_count": 29,
   "metadata": {},
   "outputs": [
    {
     "name": "stdout",
     "output_type": "stream",
     "text": [
      "        Date Invoice Number Customer ID Product ID  Units Sold   Gross  \\\n",
      "10  1-Oct-17       Inv00244     Cus0206     Pro149          27  114.75   \n",
      "11  1-Oct-17       Inv00245     Cus0206     Pro146          17   29.75   \n",
      "12  1-Oct-17       Inv00246     Cus0210     Pro147           8   14.00   \n",
      "13  1-Oct-17       Inv00247     Cus0204     Pro153          18  125.82   \n",
      "14  1-Oct-17       Inv00248     Cus0208     Pro150          25  131.25   \n",
      "15  1-Oct-17       Inv00249     Cus0200     Pro152           6    8.94   \n",
      "16  1-Oct-17       Inv00250     Cus0210     Pro147          12   21.00   \n",
      "17  1-Oct-17       Inv00251     Cus0210     Pro152          18   26.82   \n",
      "18  1-Oct-17       Inv00252     Cus0210     Pro152          16   23.84   \n",
      "19  1-Oct-17       Inv00253     Cus0204     Pro149          14   59.50   \n",
      "20  1-Oct-17       Inv00254     Cus0201     Pro148          22   76.78   \n",
      "21  1-Oct-17       Inv00255     Cus0209     Pro145           7   27.93   \n",
      "22  1-Oct-17       Inv00256     Cus0205     Pro149           4   17.00   \n",
      "23  1-Oct-17       Inv00257     Cus0205     Pro153          15  104.85   \n",
      "\n",
      "    Sales Tax     Net   Net.1  \n",
      "10      26.39  141.14  142.14  \n",
      "11       6.84   36.59   37.59  \n",
      "12       3.22   17.22   18.22  \n",
      "13      28.94  154.76  155.76  \n",
      "14      30.19  161.44  162.44  \n",
      "15       2.06   11.00   12.00  \n",
      "16       4.83   25.83   26.83  \n",
      "17       6.17   32.99   33.99  \n",
      "18       5.48   29.32   30.32  \n",
      "19      13.69   73.19   74.19  \n",
      "20      17.66   94.44   95.44  \n",
      "21       6.42   34.35   35.35  \n",
      "22       3.91   20.91   21.91  \n",
      "23      24.12  128.97  129.97  \n"
     ]
    }
   ],
   "source": [
    "print(df.loc[10:23])"
   ]
  },
  {
   "cell_type": "code",
   "execution_count": 30,
   "metadata": {},
   "outputs": [
    {
     "name": "stdout",
     "output_type": "stream",
     "text": [
      "Net\n",
      "3.67        3.790000\n",
      "4.30        5.290000\n",
      "4.31        4.512500\n",
      "5.50        6.062308\n",
      "6.46        7.275000\n",
      "6.77        7.164706\n",
      "7.33        7.708571\n",
      "8.59        9.373333\n",
      "8.61        8.795000\n",
      "9.16       10.228182\n",
      "9.82        9.210000\n",
      "10.15      10.717500\n",
      "10.46      11.189231\n",
      "10.76      11.270000\n",
      "11.00      11.808750\n",
      "12.28      13.393333\n",
      "12.83      13.262353\n",
      "12.88      13.692000\n",
      "12.91      15.880000\n",
      "12.92      11.847500\n",
      "13.53      15.772308\n",
      "14.66      16.502500\n",
      "14.72      15.478571\n",
      "15.07      16.625652\n",
      "15.68      17.110000\n",
      "16.49      13.410000\n",
      "16.50      20.300000\n",
      "16.91      19.173077\n",
      "17.17      18.335556\n",
      "17.20      18.203529\n",
      "             ...    \n",
      "135.03    148.952174\n",
      "135.61    133.535294\n",
      "135.92    132.300000\n",
      "137.56    138.832941\n",
      "141.14    147.853125\n",
      "141.16    173.630000\n",
      "141.17    114.770000\n",
      "142.07    141.833333\n",
      "146.16    153.658571\n",
      "147.30    170.012727\n",
      "148.52    175.798889\n",
      "153.44    162.556364\n",
      "154.76    174.217500\n",
      "154.98    161.252727\n",
      "159.58    158.851250\n",
      "161.44    181.740000\n",
      "163.36    178.223333\n",
      "165.71    203.820000\n",
      "165.72    134.730000\n",
      "167.90    206.520000\n",
      "171.95    173.541176\n",
      "174.35    141.750000\n",
      "174.36    214.460000\n",
      "180.55    199.493000\n",
      "189.15    201.102000\n",
      "197.75    236.886923\n",
      "206.34    227.988000\n",
      "214.94    216.577333\n",
      "223.54    241.660714\n",
      "232.14    245.196667\n",
      "Name: Gross, Length: 252, dtype: float64\n"
     ]
    }
   ],
   "source": [
    "print(df.groupby('Net')['Gross'].mean())"
   ]
  },
  {
   "cell_type": "code",
   "execution_count": 31,
   "metadata": {},
   "outputs": [
    {
     "name": "stdout",
     "output_type": "stream",
     "text": [
      "       Date Invoice Number Customer ID Product ID  Units Sold   Gross  \\\n",
      "0  1-Oct-17       Inv00234     Cus0203     Pro152          17   25.33   \n",
      "1  1-Oct-17       Inv00235     Cus0209     Pro153          17  118.83   \n",
      "2  1-Oct-17       Inv00236     Cus0209     Pro146           4    7.00   \n",
      "3  1-Oct-17       Inv00237     Cus0200     Pro151          26   71.50   \n",
      "4  1-Oct-17       Inv00238     Cus0204     Pro145          21   83.79   \n",
      "5  1-Oct-17       Inv00239     Cus0201     Pro153          19  132.81   \n",
      "6  1-Oct-17       Inv00240     Cus0203     Pro147          13   22.75   \n",
      "7  1-Oct-17       Inv00241     Cus0203     Pro154          24  119.76   \n",
      "8  1-Oct-17       Inv00242     Cus0203     Pro149           4   17.00   \n",
      "9  1-Oct-17       Inv00243     Cus0210     Pro149           5   21.25   \n",
      "\n",
      "   Sales Tax     Net   Net.1  \n",
      "0       5.83   31.16   32.16  \n",
      "1      27.33  146.16  147.16  \n",
      "2       1.61    8.61    9.61  \n",
      "3      16.45   87.95   88.95  \n",
      "4      19.27  103.06  104.06  \n",
      "5      30.55  163.36  164.36  \n",
      "6       5.23   27.98   28.98  \n",
      "7      27.54  147.30  148.30  \n",
      "8       3.91   20.91   21.91  \n",
      "9       4.89   26.14   27.14  \n"
     ]
    }
   ],
   "source": [
    "print(df.head(n=10))"
   ]
  },
  {
   "cell_type": "code",
   "execution_count": 32,
   "metadata": {},
   "outputs": [],
   "source": [
    "global_Gross=df.groupby('Net')['Gross'].mean()"
   ]
  },
  {
   "cell_type": "code",
   "execution_count": 33,
   "metadata": {},
   "outputs": [
    {
     "data": {
      "text/plain": [
       "<matplotlib.axes._subplots.AxesSubplot at 0x29701ea5978>"
      ]
     },
     "execution_count": 33,
     "metadata": {},
     "output_type": "execute_result"
    },
    {
     "data": {
      "image/png": "[encoded data removed]",
      "text/plain": [
       "<Figure size 432x288 with 1 Axes>"
      ]
     },
     "metadata": {
      "needs_background": "light"
     },
     "output_type": "display_data"
    }
   ],
   "source": [
    "global_Gross.plot()"
   ]
  }
 ],
 "metadata": {
  "kernelspec": {
   "display_name": "Python 3",
   "language": "python",
   "name": "python3"
  },
  "language_info": {
   "codemirror_mode": {
    "name": "ipython",
    "version": 3
   },
   "file_extension": ".py",
   "mimetype": "text/x-python",
   "name": "python",
   "nbconvert_exporter": "python",
   "pygments_lexer": "ipython3",
   "version": "3.6.5"
  }
 },
 "nbformat": 4,
 "nbformat_minor": 2
}
